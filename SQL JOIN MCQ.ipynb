{
 "cells": [
  {
   "cell_type": "markdown",
   "metadata": {
    "id": "PU0XfO8_ANrC"
   },
   "source": [
    "# SQL Joins: TMDb Database\n",
    "© Explore Data Science Academy"
   ]
  },
  {
   "cell_type": "markdown",
   "metadata": {
    "id": "2Xu_7454ANrD"
   },
   "source": [
    "## Instructions to Students\n",
    "\n",
    "This challenge is designed to determine how much you have learned so far and will test your knowledge on join SQL statements.\n",
    "\n",
    "The answers for this challenge should be selected on Athena for each corresponding Multiple Choice Question. The questions are included in this notebook and are numbered according to the Athena Questions, the options to choose from for each question have also been included.\n",
    "\n",
    "Do not add or remove cells in this notebook. Do not edit or remove the `%%sql` comment as it is required to run each cell.\n",
    "\n",
    "**_Good Luck!_**"
   ]
  },
  {
   "cell_type": "markdown",
   "metadata": {
    "id": "rM-I9AF7ANrE"
   },
   "source": [
    "## Honour Code\n",
    "\n",
    "I ADEWALE DANIEL, ODUKOYA, confirm - by submitting this document - that the solutions in this notebook are a result of my own work and that I abide by the EDSA honour code (https://drive.google.com/file/d/1QDCjGZJ8-FmJE3bZdIQNwnJyQKPhHZBn/view?usp=sharing).\n",
    "\n",
    "Non-compliance with the honour code constitutes a material breach of contract."
   ]
  },
  {
   "cell_type": "markdown",
   "metadata": {
    "id": "UdmHIaBZANrF"
   },
   "source": [
    "## The TMDb Database\n",
    "\n",
    "In this challenge you will be exploring the [The Movie Database](https://www.themoviedb.org/) - an online movie and TV show database, which houses some of the most popular movies and TV shows at your finger tips. The TMDb database supports 39 official languages used in over 180 countries daily and dates all the way back to 2008. \n",
    "\n",
    "\n",
    "<img src=\"https://github.com/Explore-AI/Pictures/blob/master/sql_tmdb.jpg?raw=true\" width=80%/>\n",
    "\n",
    "\n",
    "Below is an Entity Relationship diagram(ERD) of the TMDb database:\n",
    "\n",
    "<img src=\"https://github.com/Explore-AI/Pictures/blob/master/TMDB_ER_diagram.png?raw=true\" width=70%/>\n",
    "\n",
    "As can be seen from the ER diagram, the TMDb database consists of `14 tables` containing information about movies, cast, genre and so much more.  \n",
    "\n",
    "Let's get started!"
   ]
  },
  {
   "cell_type": "markdown",
   "metadata": {
    "id": "Xbzniz1rANrH"
   },
   "source": [
    "## Loading the database\n",
    "\n",
    "To begin and start making use of SQL queries you need to prepare your SQL environment you can do this by loading in the magic command `%load_ext sql`, next you can go ahead and load in your database. To do this you will need to ensure you have downloaded the `TMDB.db`sqlite file from Athena and have stored it in a known location. Now that you have all the prerequisites you can go ahead and load it into the notebook. "
   ]
  },
  {
   "cell_type": "code",
   "execution_count": 1,
   "metadata": {
    "id": "lTU9JLTEANrH"
   },
   "outputs": [],
   "source": [
    "%load_ext sql"
   ]
  },
  {
   "cell_type": "code",
   "execution_count": 2,
   "metadata": {
    "id": "gC78YBZtANrI"
   },
   "outputs": [],
   "source": [
    "%%sql \n",
    "\n",
    "sqlite:///TMDB.db"
   ]
  },
  {
   "cell_type": "markdown",
   "metadata": {
    "id": "0BfB3Uj-ANrI"
   },
   "source": [
    "## Questions on SQL Join Statements \n",
    "\n",
    "Use the given cell below each question to execute your SQL queries to find the correct input from the options provided for the multiple choice questions on Athena."
   ]
  },
  {
   "cell_type": "markdown",
   "metadata": {
    "id": "4GTT5TdpANrJ"
   },
   "source": [
    "**Question 1**\n",
    "\n",
    "What is the primary key for the table “movies”?\n",
    "\n",
    "**Options:** \n",
    " - title\n",
    " - movie_key\n",
    " - film_id\n",
    " - movie_id"
   ]
  },
  {
   "cell_type": "markdown",
   "metadata": {
    "id": "Dvqfma6FANrJ"
   },
   "source": [
    "**Solution**"
   ]
  },
  {
   "cell_type": "code",
   "execution_count": 3,
   "metadata": {
    "id": "-l3z3JCCANrJ"
   },
   "outputs": [
    {
     "name": "stdout",
     "output_type": "stream",
     "text": [
      " * sqlite:///TMDB.db\n",
      "Done.\n"
     ]
    },
    {
     "data": {
      "text/html": [
       "<table>\n",
       "    <tr>\n",
       "        <th>cid</th>\n",
       "        <th>name</th>\n",
       "        <th>type</th>\n",
       "        <th>notnull</th>\n",
       "        <th>dflt_value</th>\n",
       "        <th>pk</th>\n",
       "    </tr>\n",
       "    <tr>\n",
       "        <td>0</td>\n",
       "        <td>movie_id</td>\n",
       "        <td>integer</td>\n",
       "        <td>1</td>\n",
       "        <td>None</td>\n",
       "        <td>1</td>\n",
       "    </tr>\n",
       "    <tr>\n",
       "        <td>1</td>\n",
       "        <td>title</td>\n",
       "        <td>varchar(500)</td>\n",
       "        <td>0</td>\n",
       "        <td>NULL</td>\n",
       "        <td>0</td>\n",
       "    </tr>\n",
       "    <tr>\n",
       "        <td>2</td>\n",
       "        <td>release_date</td>\n",
       "        <td>datetime(6)</td>\n",
       "        <td>0</td>\n",
       "        <td>NULL</td>\n",
       "        <td>0</td>\n",
       "    </tr>\n",
       "    <tr>\n",
       "        <td>3</td>\n",
       "        <td>budget</td>\n",
       "        <td>integer</td>\n",
       "        <td>0</td>\n",
       "        <td>NULL</td>\n",
       "        <td>0</td>\n",
       "    </tr>\n",
       "    <tr>\n",
       "        <td>4</td>\n",
       "        <td>homepage</td>\n",
       "        <td>varchar(500)</td>\n",
       "        <td>0</td>\n",
       "        <td>NULL</td>\n",
       "        <td>0</td>\n",
       "    </tr>\n",
       "    <tr>\n",
       "        <td>5</td>\n",
       "        <td>original_language</td>\n",
       "        <td>varchar(50)</td>\n",
       "        <td>0</td>\n",
       "        <td>NULL</td>\n",
       "        <td>0</td>\n",
       "    </tr>\n",
       "    <tr>\n",
       "        <td>6</td>\n",
       "        <td>original_title</td>\n",
       "        <td>varchar(500)</td>\n",
       "        <td>0</td>\n",
       "        <td>NULL</td>\n",
       "        <td>0</td>\n",
       "    </tr>\n",
       "    <tr>\n",
       "        <td>7</td>\n",
       "        <td>overview</td>\n",
       "        <td>varchar(5000)</td>\n",
       "        <td>0</td>\n",
       "        <td>NULL</td>\n",
       "        <td>0</td>\n",
       "    </tr>\n",
       "    <tr>\n",
       "        <td>8</td>\n",
       "        <td>popularity</td>\n",
       "        <td>double</td>\n",
       "        <td>0</td>\n",
       "        <td>NULL</td>\n",
       "        <td>0</td>\n",
       "    </tr>\n",
       "    <tr>\n",
       "        <td>9</td>\n",
       "        <td>revenue</td>\n",
       "        <td>double</td>\n",
       "        <td>0</td>\n",
       "        <td>NULL</td>\n",
       "        <td>0</td>\n",
       "    </tr>\n",
       "    <tr>\n",
       "        <td>10</td>\n",
       "        <td>runtime</td>\n",
       "        <td>double</td>\n",
       "        <td>0</td>\n",
       "        <td>NULL</td>\n",
       "        <td>0</td>\n",
       "    </tr>\n",
       "    <tr>\n",
       "        <td>11</td>\n",
       "        <td>release_status</td>\n",
       "        <td>varchar(50)</td>\n",
       "        <td>0</td>\n",
       "        <td>NULL</td>\n",
       "        <td>0</td>\n",
       "    </tr>\n",
       "    <tr>\n",
       "        <td>12</td>\n",
       "        <td>tagline</td>\n",
       "        <td>varchar(500)</td>\n",
       "        <td>0</td>\n",
       "        <td>NULL</td>\n",
       "        <td>0</td>\n",
       "    </tr>\n",
       "    <tr>\n",
       "        <td>13</td>\n",
       "        <td>vote_average</td>\n",
       "        <td>double</td>\n",
       "        <td>0</td>\n",
       "        <td>NULL</td>\n",
       "        <td>0</td>\n",
       "    </tr>\n",
       "    <tr>\n",
       "        <td>14</td>\n",
       "        <td>vote_count</td>\n",
       "        <td>integer</td>\n",
       "        <td>0</td>\n",
       "        <td>NULL</td>\n",
       "        <td>0</td>\n",
       "    </tr>\n",
       "</table>"
      ],
      "text/plain": [
       "[(0, 'movie_id', 'integer', 1, None, 1),\n",
       " (1, 'title', 'varchar(500)', 0, 'NULL', 0),\n",
       " (2, 'release_date', 'datetime(6)', 0, 'NULL', 0),\n",
       " (3, 'budget', 'integer', 0, 'NULL', 0),\n",
       " (4, 'homepage', 'varchar(500)', 0, 'NULL', 0),\n",
       " (5, 'original_language', 'varchar(50)', 0, 'NULL', 0),\n",
       " (6, 'original_title', 'varchar(500)', 0, 'NULL', 0),\n",
       " (7, 'overview', 'varchar(5000)', 0, 'NULL', 0),\n",
       " (8, 'popularity', 'double', 0, 'NULL', 0),\n",
       " (9, 'revenue', 'double', 0, 'NULL', 0),\n",
       " (10, 'runtime', 'double', 0, 'NULL', 0),\n",
       " (11, 'release_status', 'varchar(50)', 0, 'NULL', 0),\n",
       " (12, 'tagline', 'varchar(500)', 0, 'NULL', 0),\n",
       " (13, 'vote_average', 'double', 0, 'NULL', 0),\n",
       " (14, 'vote_count', 'integer', 0, 'NULL', 0)]"
      ]
     },
     "execution_count": 3,
     "metadata": {},
     "output_type": "execute_result"
    }
   ],
   "source": [
    "%%sql \n",
    "pragma table_info ('movies');\n"
   ]
  },
  {
   "cell_type": "markdown",
   "metadata": {
    "id": "PpsL_rrDANrK"
   },
   "source": [
    "**Question 2**\n",
    "\n",
    "How many foreign keys does the “LanguageMap” table have?\n",
    "\n",
    "**Options:**\n",
    "\n",
    " - 0\n",
    " - 2\n",
    " - 3\n",
    " - 1"
   ]
  },
  {
   "cell_type": "markdown",
   "metadata": {
    "id": "-DMajD45ANrK"
   },
   "source": [
    "**Solution**"
   ]
  },
  {
   "cell_type": "code",
   "execution_count": 4,
   "metadata": {
    "id": "N2pScEGKANrK"
   },
   "outputs": [
    {
     "name": "stdout",
     "output_type": "stream",
     "text": [
      " * sqlite:///TMDB.db\n",
      "Done.\n"
     ]
    },
    {
     "data": {
      "text/html": [
       "<table>\n",
       "    <tr>\n",
       "        <th>cid</th>\n",
       "        <th>name</th>\n",
       "        <th>type</th>\n",
       "        <th>notnull</th>\n",
       "        <th>dflt_value</th>\n",
       "        <th>pk</th>\n",
       "    </tr>\n",
       "    <tr>\n",
       "        <td>0</td>\n",
       "        <td>movie_id</td>\n",
       "        <td>integer</td>\n",
       "        <td>1</td>\n",
       "        <td>None</td>\n",
       "        <td>1</td>\n",
       "    </tr>\n",
       "    <tr>\n",
       "        <td>1</td>\n",
       "        <td>iso_639_1</td>\n",
       "        <td>char(2)</td>\n",
       "        <td>1</td>\n",
       "        <td>None</td>\n",
       "        <td>2</td>\n",
       "    </tr>\n",
       "</table>"
      ],
      "text/plain": [
       "[(0, 'movie_id', 'integer', 1, None, 1),\n",
       " (1, 'iso_639_1', 'char(2)', 1, None, 2)]"
      ]
     },
     "execution_count": 4,
     "metadata": {},
     "output_type": "execute_result"
    }
   ],
   "source": [
    "%%sql \n",
    "pragma table_info ('LanguageMap');\n"
   ]
  },
  {
   "cell_type": "markdown",
   "metadata": {
    "id": "NZHcj-otANrL"
   },
   "source": [
    "**Question 3**\n",
    "\n",
    "How many movies in the database were produced by Pixar Animation Studios?\n",
    "\n",
    "**Options:**\n",
    " - 16\n",
    " - 14\n",
    " - 18\n",
    " - 20"
   ]
  },
  {
   "cell_type": "markdown",
   "metadata": {
    "id": "zPjVHISCANrL"
   },
   "source": [
    "**Solution**"
   ]
  },
  {
   "cell_type": "code",
   "execution_count": 5,
   "metadata": {
    "id": "Wzli1RlIANrM"
   },
   "outputs": [
    {
     "name": "stdout",
     "output_type": "stream",
     "text": [
      " * sqlite:///TMDB.db\n",
      "Done.\n"
     ]
    },
    {
     "data": {
      "text/html": [
       "<table>\n",
       "    <tr>\n",
       "        <th>OUR_RESULT</th>\n",
       "    </tr>\n",
       "    <tr>\n",
       "        <td>16</td>\n",
       "    </tr>\n",
       "</table>"
      ],
      "text/plain": [
       "[(16,)]"
      ]
     },
     "execution_count": 5,
     "metadata": {},
     "output_type": "execute_result"
    }
   ],
   "source": [
    "%%sql \n",
    "SELECT count(movies.movie_id) \n",
    "AS OUR_RESULT FROM productioncompanies \n",
    "INNER JOIN productioncompanymap \n",
    "ON productioncompanies.production_company_id=productioncompanymap.production_company_id \n",
    "INNER JOIN movies ON productioncompanymap.movie_id=movies.movie_id \n",
    "WHERE productioncompanies.production_company_name=\"Pixar Animation Studios\"; \n",
    "\n"
   ]
  },
  {
   "cell_type": "markdown",
   "metadata": {
    "id": "_5Zjuw51ANrM"
   },
   "source": [
    "**Question 4**\n",
    "\n",
    "What is the most popular action movie that has some German in it? (Hint: The German word for German is Deutsch)\n",
    "\n",
    "**Options:**\n",
    " - The Bourne Identity\n",
    " - Mission: Impossible - Rogue Nation\n",
    " - Captain America: Civil War\n",
    " - Quantum of Solace"
   ]
  },
  {
   "cell_type": "markdown",
   "metadata": {
    "id": "jFXu-6mPANrN"
   },
   "source": [
    "**Solution**"
   ]
  },
  {
   "cell_type": "code",
   "execution_count": 6,
   "metadata": {
    "id": "VztDet_vANrN"
   },
   "outputs": [
    {
     "name": "stdout",
     "output_type": "stream",
     "text": [
      " * sqlite:///TMDB.db\n",
      "Done.\n"
     ]
    },
    {
     "data": {
      "text/html": [
       "<table>\n",
       "    <tr>\n",
       "        <th>MAX(popularity)</th>\n",
       "        <th>title</th>\n",
       "    </tr>\n",
       "    <tr>\n",
       "        <td>198.372395</td>\n",
       "        <td>Captain America: Civil War</td>\n",
       "    </tr>\n",
       "</table>"
      ],
      "text/plain": [
       "[(198.372395, 'Captain America: Civil War')]"
      ]
     },
     "execution_count": 6,
     "metadata": {},
     "output_type": "execute_result"
    }
   ],
   "source": [
    "%%sql \n",
    "SELECT MAX(popularity), title\n",
    "FROM movies\n",
    "INNER JOIN genremap\n",
    "ON genremap.movie_id = movies.movie_id\n",
    "INNER JOIN\tgenres\n",
    "ON genres.genre_id = genremap.genre_id\n",
    "INNER JOIN languagemap\n",
    "ON languagemap.movie_id = movies.movie_id\n",
    "WHERE  languagemap.iso_639_1 = 'de';"
   ]
  },
  {
   "cell_type": "markdown",
   "metadata": {
    "id": "PlazTDJyANrN"
   },
   "source": [
    "**Question 5**\n",
    "\n",
    "In how many movies did Tom Cruise portray the character Ethan Hunt? (Hint: Characters are listed in the Casts table.)\n",
    "\n",
    "**Options:**\n",
    " - 4\n",
    " - 3\n",
    " - 6\n",
    " - 5"
   ]
  },
  {
   "cell_type": "markdown",
   "metadata": {
    "id": "zlU9Jga5ANrN"
   },
   "source": [
    "**Solution**"
   ]
  },
  {
   "cell_type": "code",
   "execution_count": 7,
   "metadata": {
    "id": "45qBze83ANrP"
   },
   "outputs": [
    {
     "name": "stdout",
     "output_type": "stream",
     "text": [
      " * sqlite:///TMDB.db\n",
      "Done.\n"
     ]
    },
    {
     "data": {
      "text/html": [
       "<table>\n",
       "    <tr>\n",
       "        <th>Tom Cruise Result</th>\n",
       "    </tr>\n",
       "    <tr>\n",
       "        <td>5</td>\n",
       "    </tr>\n",
       "</table>"
      ],
      "text/plain": [
       "[(5,)]"
      ]
     },
     "execution_count": 7,
     "metadata": {},
     "output_type": "execute_result"
    }
   ],
   "source": [
    "%%sql \n",
    "\n",
    "SELECT COUNT(casts.characters) \n",
    "AS \"Tom Cruise Result\" \n",
    "FROM movies INNER JOIN casts \n",
    "ON movies.movie_id=casts.movie_id \n",
    "INNER JOIN actors ON casts.actor_id=actors.actor_id \n",
    "WHERE casts.characters=\"Ethan Hunt\" \n",
    "AND actors.actor_name=\"Tom Cruise\";"
   ]
  },
  {
   "cell_type": "markdown",
   "metadata": {
    "id": "snyPZodvANrP"
   },
   "source": [
    "**Question 6**\n",
    "\n",
    "How many times was the actress Cate Blanchett nominated for an Oscar?\n",
    " \n",
    " **Options:**\n",
    " - 7\n",
    " - 4\n",
    " - 5\n",
    " - 2"
   ]
  },
  {
   "cell_type": "markdown",
   "metadata": {
    "id": "C8EYlCQwANrP"
   },
   "source": [
    "**Solution**"
   ]
  },
  {
   "cell_type": "code",
   "execution_count": 8,
   "metadata": {
    "id": "vTEAhhFCANrQ"
   },
   "outputs": [
    {
     "name": "stdout",
     "output_type": "stream",
     "text": [
      " * sqlite:///TMDB.db\n",
      "Done.\n"
     ]
    },
    {
     "data": {
      "text/html": [
       "<table>\n",
       "    <tr>\n",
       "        <th>Cate Blanchett Nominations</th>\n",
       "    </tr>\n",
       "    <tr>\n",
       "        <td>7</td>\n",
       "    </tr>\n",
       "</table>"
      ],
      "text/plain": [
       "[(7,)]"
      ]
     },
     "execution_count": 8,
     "metadata": {},
     "output_type": "execute_result"
    }
   ],
   "source": [
    "%%sql \n",
    "SELECT COUNT(name) \n",
    "AS \"Cate Blanchett Nominations\" \n",
    "FROM oscars \n",
    "WHERE name=\"Cate Blanchett\";"
   ]
  },
  {
   "cell_type": "markdown",
   "metadata": {
    "id": "eNIM6UiyANrR"
   },
   "source": [
    "**Question 7**\n",
    "\n",
    "How many of the TMDB database movies were nominated for the Best Picture award at the Oscars?\n",
    " \n",
    "**Options:**\n",
    "\n",
    " - 12\n",
    " - 16\n",
    " - 8\n",
    " - 18"
   ]
  },
  {
   "cell_type": "markdown",
   "metadata": {
    "id": "i2P7rmPEANrS"
   },
   "source": [
    "**Solution**"
   ]
  },
  {
   "cell_type": "code",
   "execution_count": 9,
   "metadata": {
    "id": "Jiso55P8ANrS"
   },
   "outputs": [
    {
     "name": "stdout",
     "output_type": "stream",
     "text": [
      " * sqlite:///TMDB.db\n",
      "Done.\n"
     ]
    },
    {
     "data": {
      "text/html": [
       "<table>\n",
       "    <tr>\n",
       "        <th>Best Picture Award Movies</th>\n",
       "    </tr>\n",
       "    <tr>\n",
       "        <td>8</td>\n",
       "    </tr>\n",
       "</table>"
      ],
      "text/plain": [
       "[(8,)]"
      ]
     },
     "execution_count": 9,
     "metadata": {},
     "output_type": "execute_result"
    }
   ],
   "source": [
    "%%sql \n",
    "SELECT COUNT(*) \n",
    "AS \"Best Picture Award Movies\" \n",
    "FROM oscars INNER JOIN movies \n",
    "ON oscars.name=movies.title \n",
    "WHERE award=\"Best Picture\";\n"
   ]
  },
  {
   "cell_type": "markdown",
   "metadata": {
    "id": "yCzbuurkANrT"
   },
   "source": [
    "**Question 8** \n",
    "\n",
    "How many movies contain at least one of the languages, Afrikaans or Zulu?\n",
    "\n",
    "**Options:**\n",
    " - 10\n",
    " - 8\n",
    " - 12\n",
    " - 15"
   ]
  },
  {
   "cell_type": "markdown",
   "metadata": {
    "id": "rtZE3nnjANrT"
   },
   "source": [
    "**Solution**"
   ]
  },
  {
   "cell_type": "code",
   "execution_count": 10,
   "metadata": {
    "id": "yhkHLjmyANrU"
   },
   "outputs": [
    {
     "name": "stdout",
     "output_type": "stream",
     "text": [
      " * sqlite:///TMDB.db\n",
      "Done.\n"
     ]
    },
    {
     "data": {
      "text/html": [
       "<table>\n",
       "    <tr>\n",
       "        <th>Afrikaans and/or Zulu Movies</th>\n",
       "    </tr>\n",
       "    <tr>\n",
       "        <td>8</td>\n",
       "    </tr>\n",
       "</table>"
      ],
      "text/plain": [
       "[(8,)]"
      ]
     },
     "execution_count": 10,
     "metadata": {},
     "output_type": "execute_result"
    }
   ],
   "source": [
    "%%sql \n",
    "SELECT COUNT(DISTINCT movies.title) \n",
    "AS \"Afrikaans and/or Zulu Movies\" \n",
    "FROM movies INNER JOIN languagemap \n",
    "ON movies.movie_id=languagemap.movie_id INNER JOIN languages \n",
    "ON languagemap.iso_639_1=languages.iso_639_1 \n",
    "WHERE languages.language_name LIKE \"%Afrikaans%\" \n",
    "OR languages.language_name LIKE \"%Zulu%\";"
   ]
  },
  {
   "cell_type": "markdown",
   "metadata": {
    "id": "fOX5uDP-ANrU"
   },
   "source": [
    "**Question 9**\n",
    "\n",
    "In which country was the movie “Star Wars” produced?  \n",
    "\n",
    "**Options:**\n",
    " - Canada\n",
    " - United Kingdom\n",
    " - France\n",
    " - United States of America"
   ]
  },
  {
   "cell_type": "markdown",
   "metadata": {
    "id": "rK5k-b0JANrV"
   },
   "source": [
    "**Solution**"
   ]
  },
  {
   "cell_type": "code",
   "execution_count": 11,
   "metadata": {
    "id": "G3f6pprlANrV"
   },
   "outputs": [
    {
     "name": "stdout",
     "output_type": "stream",
     "text": [
      " * sqlite:///TMDB.db\n",
      "Done.\n"
     ]
    },
    {
     "data": {
      "text/html": [
       "<table>\n",
       "    <tr>\n",
       "        <th>production_country_name</th>\n",
       "    </tr>\n",
       "    <tr>\n",
       "        <td>United States of America</td>\n",
       "    </tr>\n",
       "</table>"
      ],
      "text/plain": [
       "[('United States of America',)]"
      ]
     },
     "execution_count": 11,
     "metadata": {},
     "output_type": "execute_result"
    }
   ],
   "source": [
    "%%sql \n",
    "SELECT productioncountries.production_country_name \n",
    "FROM movies INNER JOIN productioncountrymap \n",
    "ON movies.movie_id=productioncountrymap.movie_id \n",
    "INNER JOIN productioncountries \n",
    "ON productioncountrymap.iso_3166_1=productioncountries.iso_3166_1 \n",
    "WHERE movies.title=\"Star Wars\";\n"
   ]
  },
  {
   "cell_type": "markdown",
   "metadata": {
    "id": "i1mYn55cANrV"
   },
   "source": [
    "**Question 10**\n",
    "\n",
    "How many movies are in the database that are both a Romance and a Comedy?\n",
    "\n",
    "**Options:**\n",
    "\n",
    " - 373\n",
    " - 484\n",
    " - 262\n",
    " - 595"
   ]
  },
  {
   "cell_type": "markdown",
   "metadata": {
    "id": "rFpugBRSANrW"
   },
   "source": [
    "**Solution**"
   ]
  },
  {
   "cell_type": "code",
   "execution_count": 12,
   "metadata": {
    "id": "TA6K1N6GANrW"
   },
   "outputs": [
    {
     "name": "stdout",
     "output_type": "stream",
     "text": [
      " * sqlite:///TMDB.db\n",
      "Done.\n"
     ]
    },
    {
     "data": {
      "text/html": [
       "<table>\n",
       "    <tr>\n",
       "        <th>Intersection of Romance and Comedy Movies</th>\n",
       "    </tr>\n",
       "    <tr>\n",
       "        <td>484</td>\n",
       "    </tr>\n",
       "</table>"
      ],
      "text/plain": [
       "[(484,)]"
      ]
     },
     "execution_count": 12,
     "metadata": {},
     "output_type": "execute_result"
    }
   ],
   "source": [
    "%%sql \n",
    "SELECT COUNT(*) \n",
    "AS \"Intersection of Romance and Comedy Movies\" \n",
    "FROM (SELECT movies.title FROM movies INNER JOIN genremap \n",
    "      ON movies.movie_id=genremap.movie_id INNER JOIN genres \n",
    "      ON genremap.genre_id=genres.genre_id WHERE genres.genre_name=\"Romance\" \n",
    "      INTERSECT SELECT movies.title FROM movies INNER JOIN genremap \n",
    "      ON movies.movie_id=genremap.movie_id INNER JOIN genres \n",
    "      ON genremap.genre_id=genres.genre_id WHERE genres.genre_name=\"Comedy\") intersection;\n"
   ]
  },
  {
   "cell_type": "code",
   "execution_count": null,
   "metadata": {},
   "outputs": [],
   "source": []
  }
 ],
 "metadata": {
  "colab": {
   "name": "Copy of Copy of JOINS_student_version.ipynb",
   "provenance": [
    {
     "file_id": "1Bf707AysxjyIzoHSa_bfy3WyeCioJWVC",
     "timestamp": 1650060950902
    },
    {
     "file_id": "1ePBQhsZjCavYa5T9YHqcdNze1deUUuY3",
     "timestamp": 1650060922598
    }
   ]
  },
  "kernelspec": {
   "display_name": "Python 3 (ipykernel)",
   "language": "python",
   "name": "python3"
  },
  "language_info": {
   "codemirror_mode": {
    "name": "ipython",
    "version": 3
   },
   "file_extension": ".py",
   "mimetype": "text/x-python",
   "name": "python",
   "nbconvert_exporter": "python",
   "pygments_lexer": "ipython3",
   "version": "3.9.7"
  }
 },
 "nbformat": 4,
 "nbformat_minor": 1
}
